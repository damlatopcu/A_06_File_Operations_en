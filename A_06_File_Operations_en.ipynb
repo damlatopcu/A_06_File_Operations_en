{
 "cells": [
  {
   "cell_type": "code",
   "execution_count": 1,
   "metadata": {},
   "outputs": [
    {
     "name": "stdout",
     "output_type": "stream",
     "text": [
      "Günün tükendiği bu saatlerde\n",
      "Tüm doğa canla başla çalışıyor.\n",
      "Gece vakti bu yıldızlardan inen\n",
      "Ne acayip bir korkudur kim bilir?\n",
      "\n",
      "Etkisinde kalmış nice gizemin,\n",
      "Kaygılı, bir yandan tir tir titriyor,\n",
      "Karanlıkta, bilinmeyen bir gücün\n",
      "Gözlerini üstünde hissediyor.\n",
      "\n",
      "Ne büyük dehşet kendini tanımak!\n",
      "Kaçışı olmadan, durmadan çalışmak,\n",
      "Ebediyetin içinde devinen\n",
      "Varlığın merhametine kalmak!\n",
      "\n",
      "Bu nasıl kara, zor bir bulmaca\n",
      "Amaçlar ve çözümler gizleniyor,\n",
      "Birileri titrerken aşağıda,\n",
      "Yukarda birileri düş görüyor.\n",
      "\n",
      "Victor Hugo\n",
      "\n"
     ]
    }
   ],
   "source": [
    "with open(\"Gece.txt\", \"r\") as f:\n",
    "    line=f.read() \n",
    "\n",
    "print (line)"
   ]
  },
  {
   "cell_type": "code",
   "execution_count": 2,
   "metadata": {},
   "outputs": [
    {
     "name": "stdout",
     "output_type": "stream",
     "text": [
      "Günün tükendiği bu saatlerde\n",
      "Tüm doğa canla başla çalışıyor.\n",
      "Gece vakti bu yıldızlardan inen\n",
      "Ne acayip bir korkudur kim bilir?\n",
      "\n",
      "Etkisinde kalmış nice gizemin,\n",
      "Kaygılı, bir yandan tir tir titriyor,\n",
      "Karanlıkta, bilinmeyen bir gücün\n",
      "Gözlerini üstünde hissediyor.\n",
      "\n",
      "Ne büyük dehşet kendini tanımak!\n",
      "Kaçışı olmadan, durmadan çalışmak,\n",
      "Ebediyetin içinde devinen\n",
      "Varlığın merhametine kalmak!\n",
      "\n",
      "Bu nasıl kara, zor bir bulmaca\n",
      "Amaçlar ve çözümler gizleniyor,\n",
      "Birileri titrerken aşağıda,\n",
      "Yukarda birileri düş görüyor.\n",
      "\n",
      "Victor Hugo\n",
      "\n",
      "Sen, her gün köşe başlarında\n",
      "Yırtık urbanla kirli ellerinle\n",
      "Avuç açan, sefil insan.\n",
      "\n",
      "İnan yok farkımız birbirimizden.\n",
      "Sen belki tüm yaşamınca dilenecek;\n",
      "Beklediğin beş kuruşu biri vermezse,\n",
      "Ötekinden isteyeceksin.\n",
      "\n",
      "Ama ben, tüm yaşamım boyunca\n",
      "Tek bir kez dilendim,\n",
      "Bir acımasız kalbin sevdası ile alevlendim.\n",
      "Öylesine boş öylesine açık kaldı ki elim,\n",
      "Yemin ettim bir daha dilenmeyeceğim.\n",
      "\n",
      "Victor Hugo\n",
      "\n"
     ]
    }
   ],
   "source": [
    "with open(\"Gece.txt\",'a') as f: \n",
    "    f.write(\"\\n\")\n",
    "    f.write(\"Sen, her gün köşe başlarında\\n\")\n",
    "    f.write(\"Yırtık urbanla kirli ellerinle\\n\")\n",
    "    f.write(\"Avuç açan, sefil insan.\\n\")\n",
    "    f.write(\"\\n\")\n",
    "    f.write(\"İnan yok farkımız birbirimizden.\\n\")\n",
    "    f.write(\"Sen belki tüm yaşamınca dilenecek;\\n\")\n",
    "    f.write(\"Beklediğin beş kuruşu biri vermezse,\\n\")\n",
    "    f.write(\"Ötekinden isteyeceksin.\\n\")\n",
    "    f.write(\"\\n\")\n",
    "    f.write(\"Ama ben, tüm yaşamım boyunca\\n\")\n",
    "    f.write(\"Tek bir kez dilendim,\\n\")\n",
    "    f.write(\"Bir acımasız kalbin sevdası ile alevlendim.\\n\")\n",
    "    f.write(\"Öylesine boş öylesine açık kaldı ki elim,\\n\")\n",
    "    f.write(\"Yemin ettim bir daha dilenmeyeceğim.\\n\")\n",
    "    f.write(\"\\n\")\n",
    "    f.write(\"Victor Hugo\\n\")\n",
    "\n",
    "with open(\"Gece.txt\", \"r\") as f:\n",
    "    lines=f.read()\n",
    "\n",
    "print (lines)"
   ]
  },
  {
   "cell_type": "code",
   "execution_count": null,
   "metadata": {},
   "outputs": [],
   "source": []
  },
  {
   "cell_type": "code",
   "execution_count": null,
   "metadata": {},
   "outputs": [],
   "source": []
  },
  {
   "cell_type": "code",
   "execution_count": null,
   "metadata": {},
   "outputs": [],
   "source": []
  },
  {
   "cell_type": "code",
   "execution_count": null,
   "metadata": {},
   "outputs": [],
   "source": []
  }
 ],
 "metadata": {
  "kernelspec": {
   "display_name": "Python 3",
   "language": "python",
   "name": "python3"
  },
  "language_info": {
   "codemirror_mode": {
    "name": "ipython",
    "version": 3
   },
   "file_extension": ".py",
   "mimetype": "text/x-python",
   "name": "python",
   "nbconvert_exporter": "python",
   "pygments_lexer": "ipython3",
   "version": "3.7.3"
  }
 },
 "nbformat": 4,
 "nbformat_minor": 2
}
